{
 "cells": [
  {
   "cell_type": "code",
   "execution_count": null,
   "metadata": {
    "scrolled": true
   },
   "outputs": [],
   "source": [
    "import tensorflow as tf\n",
    "print(tf.__version__)\n",
    "\n",
    "n_input1 = 28 # pixels of a digit in MNIST\n",
    "n_input2 = 28 \n",
    "n_kernel = 3 # CNN with a kernel of 3 by 3 \n",
    "n_pool = 2 # CNN with a pooling of 2 by 2\n",
    "n_output = 10 # corresponds to the 10 digits (0-9)\n",
    "n_batch_size = 50 \n",
    "n_epochs = 5\n",
    "\n",
    "# required orderwise tf uses up all the memory of GPU and crashes \n",
    "\n",
    "gpus = tf.config.experimental.list_physical_devices('GPU')\n",
    "if gpus:\n",
    "  # Restrict TensorFlow to only allocate 1GB of memory on the first GPU\n",
    "  try:\n",
    "    tf.config.experimental.set_virtual_device_configuration(\n",
    "        gpus[0],\n",
    "        [tf.config.experimental.VirtualDeviceConfiguration(memory_limit=1024)])\n",
    "    logical_gpus = tf.config.experimental.list_logical_devices('GPU')\n",
    "    print(len(gpus), \"Physical GPUs,\", len(logical_gpus), \"Logical GPUs\")\n",
    "  except RuntimeError as e:\n",
    "    # Virtual devices must be set before GPUs have been initialized\n",
    "    print(e)\n",
    "\n",
    "# config = tf.compat.v1.ConfigProto()\n",
    "# config.gpu_options.allow_growth = True\n",
    "# session = tf.compat.v1.InteractiveSession(config=config)\n",
    "\n",
    "# getting the MNIST dataset : 60k of handwritten labelled digits \n",
    "    \n",
    "mnist = tf.keras.datasets.mnist \n",
    "(x_train, y_train), (x_test, y_test) = mnist.load_data()\n",
    "\n",
    "x_train = x_train.reshape(x_train.shape[0], n_input1, n_input2, 1)\n",
    "x_test = x_test.reshape(x_test.shape[0], n_input1, n_input2, 1)\n",
    "\n",
    "input_shape = (n_input1, n_input2, 1)\n",
    "\n",
    "x_train = x_train.astype('float32')\n",
    "x_test = x_test.astype('float32')\n",
    "\n",
    "x_train /= 255\n",
    "x_test /= 255\n",
    "\n",
    "# Building up the model \n",
    "\n",
    "model = tf.keras.models.Sequential() \n",
    "\n",
    "model.add(tf.keras.layers.Conv2D(n_input1,kernel_size=(n_kernel,n_kernel), input_shape=input_shape))\n",
    "model.add(tf.keras.layers.MaxPooling2D(pool_size=(n_pool,n_pool)))\n",
    "model.add(tf.keras.layers.Flatten())\n",
    "model.add(tf.keras.layers.Dense(128,activation=tf.nn.relu))\n",
    "model.add(tf.keras.layers.Dropout(0.2)) # avoid overfitting \n",
    "model.add(tf.keras.layers.Dense(n_output, activation=tf.nn.softmax))\n",
    "\n",
    "# Setting the optimizer and the loss function hyperparameters\n",
    "\n",
    "model.compile (optimizer='adam',\n",
    "                loss='sparse_categorical_crossentropy',\n",
    "              metrics=['accuracy'])\n",
    "\n",
    "# training of the model on the GPU\n",
    "\n",
    "model.fit(x=x_train,y=y_train, batch_size=n_batch_size, epochs=n_epochs)\n",
    "\n",
    "# evaluation of the model \n",
    "\n",
    "model.evaluate(x_test, y_test)"
   ]
  },
  {
   "cell_type": "code",
   "execution_count": null,
   "metadata": {},
   "outputs": [],
   "source": []
  },
  {
   "cell_type": "code",
   "execution_count": null,
   "metadata": {},
   "outputs": [],
   "source": []
  }
 ],
 "metadata": {
  "kernelspec": {
   "display_name": "Python 3",
   "language": "python",
   "name": "python3"
  },
  "language_info": {
   "codemirror_mode": {
    "name": "ipython",
    "version": 3
   },
   "file_extension": ".py",
   "mimetype": "text/x-python",
   "name": "python",
   "nbconvert_exporter": "python",
   "pygments_lexer": "ipython3",
   "version": "3.7.0"
  }
 },
 "nbformat": 4,
 "nbformat_minor": 2
}
