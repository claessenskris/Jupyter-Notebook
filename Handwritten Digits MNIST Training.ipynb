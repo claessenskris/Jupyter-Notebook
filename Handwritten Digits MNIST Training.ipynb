{
 "cells": [
  {
   "cell_type": "code",
   "execution_count": 6,
   "metadata": {
    "scrolled": true
   },
   "outputs": [
    {
     "name": "stdout",
     "output_type": "stream",
     "text": [
      "1 Physical GPUs, 1 Logical GPUs\n",
      "Train on 60000 samples\n",
      "Epoch 1/5\n",
      "60000/60000 [==============================] - 3s 54us/sample - loss: 0.1887 - accuracy: 0.9399\n",
      "Epoch 2/5\n",
      "60000/60000 [==============================] - 3s 49us/sample - loss: 0.0626 - accuracy: 0.9812\n",
      "Epoch 3/5\n",
      "60000/60000 [==============================] - 3s 49us/sample - loss: 0.0451 - accuracy: 0.9858\n",
      "Epoch 4/5\n",
      "60000/60000 [==============================] - 3s 49us/sample - loss: 0.0359 - accuracy: 0.9889\n",
      "Epoch 5/5\n",
      "60000/60000 [==============================] - 3s 49us/sample - loss: 0.0297 - accuracy: 0.9908\n",
      "10000/10000 [==============================] - 1s 55us/sample - loss: 0.0289 - accuracy: 0.9904\n"
     ]
    }
   ],
   "source": [
    "import tensorflow as tf\n",
    "from tensorflow import keras\n",
    "from PIL import Image\n",
    "import numpy as np\n",
    "\n",
    "n_input1 = 28 # pixels of a digit in MNIST\n",
    "n_input2 = n_input1 * 2 \n",
    "n_kernel = 3 # CNN with a kernel of 3 by 3 \n",
    "n_pool = 2 # CNN with a pooling of 2 by 2\n",
    "n_output = 10 # corresponds to the 10 digits (0-9)\n",
    "n_batch_size = 50 \n",
    "n_epochs = 5\n",
    "\n",
    "# required orderwise tf uses up all the memory of GPU and crashes \n",
    "\n",
    "gpus = tf.config.experimental.list_physical_devices('GPU')\n",
    "if gpus:\n",
    "  # Restrict TensorFlow to only allocate 1GB of memory on the first GPU\n",
    "  try:\n",
    "    tf.config.experimental.set_virtual_device_configuration(\n",
    "        gpus[0],\n",
    "        [tf.config.experimental.VirtualDeviceConfiguration(memory_limit=1024)])\n",
    "    logical_gpus = tf.config.experimental.list_logical_devices('GPU')\n",
    "    print(len(gpus), \"Physical GPUs,\", len(logical_gpus), \"Logical GPUs\")\n",
    "  except RuntimeError as e:\n",
    "    # Virtual devices must be set before GPUs have been initialized\n",
    "    print(e)\n",
    "\n",
    "# getting the MNIST dataset : 60k of handwritten labelled digits \n",
    "\n",
    "mnist = keras.datasets.mnist\n",
    "\n",
    "(x_train, y_train), (x_test, y_test) = mnist.load_data()\n",
    "\n",
    "x_train = x_train.reshape(x_train.shape[0], n_input1, n_input1, 1)\n",
    "x_test = x_test.reshape(x_test.shape[0], n_input1, n_input1, 1)\n",
    "\n",
    "input_shape = (n_input1, n_input1, 1)\n",
    "\n",
    "# convert from integer to float\n",
    "\n",
    "x_train = x_train.astype('float32')\n",
    "x_test = x_test.astype('float32')\n",
    "\n",
    "# normalize to range 0-1\n",
    "\n",
    "x_train /= 255.0\n",
    "x_test /= 255.0\n",
    "\n",
    "# Building up the model \n",
    "\n",
    "model = keras.models.Sequential() \n",
    "\n",
    "model.add(keras.layers.Conv2D(n_input1,(n_kernel,n_kernel), activation='relu', kernel_initializer='he_uniform', input_shape=input_shape))\n",
    "model.add(keras.layers.MaxPooling2D(n_pool,n_pool))\n",
    "model.add(keras.layers.Conv2D(n_input2,(n_kernel,n_kernel),activation= 'relu', kernel_initializer='he_uniform'))\n",
    "model.add(keras.layers.Conv2D(n_input2,(n_kernel,n_kernel),activation='relu', kernel_initializer='he_uniform'))       \n",
    "model.add(keras.layers.MaxPooling2D(pool_size=(n_pool,n_pool)))  \n",
    "model.add(keras.layers.Flatten())\n",
    "model.add(keras.layers.Dense(100,activation='relu', kernel_initializer='he_uniform'))\n",
    "model.add(keras.layers.Dropout(0.2)) # avoid overfitting \n",
    "model.add(keras.layers.Dense(n_output, activation='softmax'))\n",
    "\n",
    "# Setting the optimizer and the loss function hyperparameters\n",
    "\n",
    "opt = keras.optimizers.SGD(lr=0.01, momentum=0.9)\n",
    "model.compile (optimizer=opt,\n",
    "                loss='sparse_categorical_crossentropy',\n",
    "              metrics=['accuracy'])\n",
    "\n",
    "# training of the model on the GPU\n",
    "\n",
    "model.fit(x=x_train,y=y_train, batch_size=n_batch_size, epochs=n_epochs)\n",
    "\n",
    "# evaluation of the model \n",
    "\n",
    "model.evaluate(x_test, y_test)\n",
    "\n",
    "# save the model \n",
    "\n",
    "model.save('handwritten_digit_model.h5')"
   ]
  },
  {
   "cell_type": "code",
   "execution_count": 7,
   "metadata": {},
   "outputs": [
    {
     "data": {
      "text/plain": [
       "'image: '"
      ]
     },
     "metadata": {},
     "output_type": "display_data"
    },
    {
     "data": {
      "image/png": "[encoded data removed]",
      "text/plain": [
       "<PIL.Image.Image image mode=L size=28x28 at 0x139D87AAF60>"
      ]
     },
     "metadata": {},
     "output_type": "display_data"
    },
    {
     "data": {
      "text/plain": [
       "'prediction '"
      ]
     },
     "metadata": {},
     "output_type": "display_data"
    },
    {
     "data": {
      "text/plain": [
       "5"
      ]
     },
     "metadata": {},
     "output_type": "display_data"
    }
   ],
   "source": [
    "# load the model\n",
    "\n",
    "model = keras.models.load_model('handwritten_digit_model.h5')\n",
    "\n",
    "# load the example image \n",
    "\n",
    "filename = \"digit.png\" # put your image including file extension\n",
    "image = keras.preprocessing.image.load_img(filename,color_mode='grayscale', target_size=(n_input1,n_input1))\n",
    "\n",
    "display(\"image: \", image)\n",
    "\n",
    "#convert to array \n",
    "\n",
    "image = keras.preprocessing.image.img_to_array(image)\n",
    "\n",
    "#reshape into a single sample with 1 channel\n",
    "\n",
    "image = image.reshape(1,n_input1,n_input1,1)\n",
    "\n",
    "#prepare pixel data\n",
    "\n",
    "image = image.astype('float32')\n",
    "image = image / 255.0\n",
    "\n",
    "#predict the digit \n",
    "\n",
    "digit = model.predict_classes(image)\n",
    "display(\"prediction \", digit[0])"
   ]
  },
  {
   "cell_type": "code",
   "execution_count": null,
   "metadata": {},
   "outputs": [],
   "source": []
  }
 ],
 "metadata": {
  "kernelspec": {
   "display_name": "Python 3",
   "language": "python",
   "name": "python3"
  },
  "language_info": {
   "codemirror_mode": {
    "name": "ipython",
    "version": 3
   },
   "file_extension": ".py",
   "mimetype": "text/x-python",
   "name": "python",
   "nbconvert_exporter": "python",
   "pygments_lexer": "ipython3",
   "version": "3.7.0"
  }
 },
 "nbformat": 4,
 "nbformat_minor": 2
}
